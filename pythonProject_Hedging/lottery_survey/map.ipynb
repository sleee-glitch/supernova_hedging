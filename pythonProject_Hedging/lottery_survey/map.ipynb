{
 "cells": [
  {
   "cell_type": "code",
   "execution_count": null,
   "metadata": {
    "collapsed": true
   },
   "outputs": [],
   "source": []
  },
  {
   "cell_type": "code",
   "execution_count": null,
   "outputs": [],
   "source": [
    "import matplotlib.pyplot as plt\n",
    "from mpl_toolkits.basemap import Basemap\n",
    "\n",
    "# Coordinates for Houston and Cairo\n",
    "houston_lon, houston_lat = -95.3698, 29.7604\n",
    "cairo_lon, cairo_lat = 31.2357, 30.0444\n",
    "\n",
    "# Create a new figure\n",
    "plt.figure(figsize=(12,8))\n",
    "\n",
    "# Create a Basemap instance with a Mercator projection\n",
    "m = Basemap(projection='merc', llcrnrlat=-60, urcrnrlat=90,\n",
    "            llcrnrlon=-180, urcrnrlon=180, resolution='l')\n",
    "\n",
    "# Draw coastlines, countries and fill continents\n",
    "m.drawcoastlines()\n",
    "m.drawcountries()\n",
    "m.fillcontinents(color='lightgray', lake_color='aqua')\n",
    "m.drawmapboundary(fill_color='aqua')\n",
    "\n",
    "# Convert latitude and longitude to x and y for plotting\n",
    "x_h, y_h = m(houston_lon, houston_lat)\n",
    "x_c, y_c = m(cairo_lon, cairo_lat)\n",
    "\n",
    "# Plot Houston and Cairo as red dots\n",
    "m.plot(x_h, y_h, 'ro', markersize=8, label='Houston')\n",
    "m.plot(x_c, y_c, 'ro', markersize=8, label='Cairo')\n",
    "\n",
    "# Draw the great circle route between Houston and Cairo\n",
    "try:\n",
    "    m.drawgreatcircle(houston_lon, houston_lat, cairo_lon, cairo_lat, linewidth=2, color='blue')\n",
    "except Exception as e:\n",
    "    # Fall back to a simple line if drawgreatcircle fails\n",
    "    plt.plot([x_h, x_c], [y_h, y_c], color='blue', linewidth=2)\n",
    "\n",
    "# Add labels for the cities\n",
    "plt.text(x_h, y_h, ' Houston', fontsize=12, fontweight='bold', color='black')\n",
    "plt.text(x_c, y_c, ' Cairo', fontsize=12, fontweight='bold', color='black')\n",
    "\n",
    "plt.title('Airline Route Map: Houston to Cairo')\n",
    "plt.legend(loc='lower left')\n",
    "\n",
    "# Save the image\n",
    "plt.savefig('airline_route_map.png')\n",
    "plt.show()\n"
   ],
   "metadata": {
    "collapsed": false,
    "pycharm": {
     "is_executing": true
    }
   }
  }
 ],
 "metadata": {
  "kernelspec": {
   "display_name": "Python 3",
   "language": "python",
   "name": "python3"
  },
  "language_info": {
   "codemirror_mode": {
    "name": "ipython",
    "version": 2
   },
   "file_extension": ".py",
   "mimetype": "text/x-python",
   "name": "python",
   "nbconvert_exporter": "python",
   "pygments_lexer": "ipython2",
   "version": "2.7.6"
  }
 },
 "nbformat": 4,
 "nbformat_minor": 0
}
